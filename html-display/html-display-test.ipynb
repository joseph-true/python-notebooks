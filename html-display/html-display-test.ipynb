{
 "cells": [
  {
   "cell_type": "code",
   "execution_count": 1,
   "metadata": {},
   "outputs": [],
   "source": [
    "# --------------------------\n",
    "# HTML Display\n",
    "# Examples of building and displaying HTML content directly in a Jupyter Notebook\n",
    "# Joseph True\n",
    "# jtrueprojects@gmail.com\n",
    "# http://www.josephtrue.com/ \n",
    "# --------------------------"
   ]
  },
  {
   "cell_type": "code",
   "execution_count": 2,
   "metadata": {},
   "outputs": [],
   "source": [
    "# These libraries support what we want to do\n",
    "from IPython.core.display import display, HTML"
   ]
  },
  {
   "cell_type": "code",
   "execution_count": 3,
   "metadata": {},
   "outputs": [
    {
     "data": {
      "text/html": [
       "<h1>Hello, world!</h1>"
      ],
      "text/plain": [
       "<IPython.core.display.HTML object>"
      ]
     },
     "metadata": {},
     "output_type": "display_data"
    }
   ],
   "source": [
    "#\n",
    "# Simple example of displaying some HTML\n",
    "#\n",
    "display(HTML('<h1>Hello, world!</h1>'))"
   ]
  },
  {
   "cell_type": "code",
   "execution_count": 4,
   "metadata": {},
   "outputs": [
    {
     "data": {
      "text/plain": [
       "'<h1>Hello Wordl! (from a file)</h1>'"
      ]
     },
     "execution_count": 4,
     "metadata": {},
     "output_type": "execute_result"
    }
   ],
   "source": [
    "#\n",
    "# Try it with a file\n",
    "#\n",
    "f = open(\"html-test-file.htm\", \"r\")\n",
    "strHtml = f.read()\n",
    "f.close\n",
    "\n",
    "# Display the raw HTML from the file\n",
    "strHtml"
   ]
  },
  {
   "cell_type": "code",
   "execution_count": 5,
   "metadata": {},
   "outputs": [
    {
     "data": {
      "text/html": [
       "<h1>Hello Wordl! (from a file)</h1>"
      ],
      "text/plain": [
       "<IPython.core.display.HTML object>"
      ]
     },
     "metadata": {},
     "output_type": "display_data"
    }
   ],
   "source": [
    "#\n",
    "# Display the HTML content from the file\n",
    "#\n",
    "display(HTML(strHtml))"
   ]
  },
  {
   "cell_type": "code",
   "execution_count": 7,
   "metadata": {},
   "outputs": [
    {
     "data": {
      "text/html": [
       "<br>"
      ],
      "text/plain": [
       "<IPython.core.display.HTML object>"
      ]
     },
     "metadata": {},
     "output_type": "display_data"
    },
    {
     "data": {
      "text/html": [
       "<div align=\"right\" style=\"background-color:lightblue;width:300px\">test</div>"
      ],
      "text/plain": [
       "<IPython.core.display.HTML object>"
      ]
     },
     "metadata": {},
     "output_type": "display_data"
    },
    {
     "data": {
      "text/html": [
       "<br>"
      ],
      "text/plain": [
       "<IPython.core.display.HTML object>"
      ]
     },
     "metadata": {},
     "output_type": "display_data"
    }
   ],
   "source": [
    "#\n",
    "# Build a div tag\n",
    "#\n",
    "# display(HTML('<br><div align=\"right\" style=\"background-color:lightblue;width:300px\">test</div><br>'))\n",
    "display(HTML('<br>'))\n",
    "display(HTML('<div align=\"right\" style=\"background-color:lightblue;width:300px\">test</div>'))\n",
    "display(HTML('<br>'))"
   ]
  },
  {
   "cell_type": "code",
   "execution_count": 10,
   "metadata": {},
   "outputs": [
    {
     "data": {
      "text/html": [
       "<div align=\"right\" style=\"background-color:lightblue;width:100px;>margin-top:2px; margin-bottom:2px;\"><b>100</b></div><div align=\"right\" style=\"background-color:lightblue;width:148px;>margin-top:2px; margin-bottom:2px;\"><b>148</b></div><div align=\"right\" style=\"background-color:lightblue;width:244px;>margin-top:2px; margin-bottom:2px;\"><b>244</b></div><div align=\"right\" style=\"background-color:lightblue;width:64px;>margin-top:2px; margin-bottom:2px;\"><b>64</b></div><div align=\"right\" style=\"background-color:lightblue;width:204px;>margin-top:2px; margin-bottom:2px;\"><b>204</b></div><div align=\"right\" style=\"background-color:lightblue;width:349px;>margin-top:2px; margin-bottom:2px;\"><b>349</b></div><div align=\"right\" style=\"background-color:lightblue;width:181px;>margin-top:2px; margin-bottom:2px;\"><b>181</b></div><div align=\"right\" style=\"background-color:lightblue;width:347px;>margin-top:2px; margin-bottom:2px;\"><b>347</b></div><div align=\"right\" style=\"background-color:lightblue;width:229px;>margin-top:2px; margin-bottom:2px;\"><b>229</b></div><div align=\"right\" style=\"background-color:lightblue;width:56px;>margin-top:2px; margin-bottom:2px;\"><b>56</b></div>"
      ],
      "text/plain": [
       "<IPython.core.display.HTML object>"
      ]
     },
     "metadata": {},
     "output_type": "display_data"
    }
   ],
   "source": [
    "#\n",
    "# Build it dynamically blending code, values and HTML\n",
    "#\n",
    "import random\n",
    "\n",
    "strDynHTML = ''\n",
    "for i in range(10):\n",
    "    x =  random.randint(25,400)\n",
    "    strDynHTML = strDynHTML + '<div align=\"right\" style=\"background-color:lightblue;' # open the div tag\n",
    "    strDynHTML = strDynHTML + 'width:' + str(x) + 'px;>' # set div width with random number\n",
    "    strDynHTML = strDynHTML + 'margin-top:2px; margin-bottom:2px;\">' # add some space around each bar\n",
    "    strDynHTML = strDynHTML + '<b>' + str(x) + '</b>' # display value\n",
    "    strDynHTML = strDynHTML + '</div>' # close the div\n",
    "\n",
    "display(HTML(strDynHTML))"
   ]
  },
  {
   "cell_type": "code",
   "execution_count": null,
   "metadata": {},
   "outputs": [],
   "source": []
  }
 ],
 "metadata": {
  "kernelspec": {
   "display_name": "Python 2",
   "language": "python",
   "name": "python2"
  },
  "language_info": {
   "codemirror_mode": {
    "name": "ipython",
    "version": 2
   },
   "file_extension": ".py",
   "mimetype": "text/x-python",
   "name": "python",
   "nbconvert_exporter": "python",
   "pygments_lexer": "ipython2",
   "version": "2.7.14"
  }
 },
 "nbformat": 4,
 "nbformat_minor": 2
}

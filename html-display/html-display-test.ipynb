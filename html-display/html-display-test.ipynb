{
 "cells": [
  {
   "cell_type": "code",
   "execution_count": 1,
   "metadata": {},
   "outputs": [],
   "source": [
    "# --------------------------\n",
    "# HTML Display\n",
    "# Examples of building and displaying HTML content directly in a Jupyter Notebook\n",
    "# Joseph True\n",
    "# jtrueprojects@gmail.com\n",
    "# http://www.josephtrue.com/\n",
    "# https://github.com/joseph-true\n",
    "# --------------------------"
   ]
  },
  {
   "cell_type": "code",
   "execution_count": 2,
   "metadata": {},
   "outputs": [],
   "source": [
    "# These libraries support what we want to do\n",
    "from IPython.core.display import display, HTML\n",
    "import random"
   ]
  },
  {
   "cell_type": "code",
   "execution_count": 3,
   "metadata": {},
   "outputs": [
    {
     "data": {
      "text/html": [
       "<h1>Hello, world!</h1>"
      ],
      "text/plain": [
       "<IPython.core.display.HTML object>"
      ]
     },
     "metadata": {},
     "output_type": "display_data"
    }
   ],
   "source": [
    "#\n",
    "# Simple example of displaying some HTML\n",
    "display(HTML('<h1>Hello, world!</h1>'))"
   ]
  },
  {
   "cell_type": "code",
   "execution_count": 4,
   "metadata": {},
   "outputs": [
    {
     "data": {
      "text/plain": [
       "'<h1>Hello Wordl! (from a file)</h1>'"
      ]
     },
     "execution_count": 4,
     "metadata": {},
     "output_type": "execute_result"
    }
   ],
   "source": [
    "#\n",
    "# Retrieve HTML from a file\n",
    "f = open(\"html-test-file.htm\", \"r\")\n",
    "strHtml = f.read()\n",
    "f.close\n",
    "\n",
    "# Display the raw HTML from the file\n",
    "strHtml"
   ]
  },
  {
   "cell_type": "code",
   "execution_count": 5,
   "metadata": {},
   "outputs": [
    {
     "data": {
      "text/html": [
       "<h1>Hello Wordl! (from a file)</h1>"
      ],
      "text/plain": [
       "<IPython.core.display.HTML object>"
      ]
     },
     "metadata": {},
     "output_type": "display_data"
    }
   ],
   "source": [
    "# Display the HTML content from the file\n",
    "display(HTML(strHtml))"
   ]
  },
  {
   "cell_type": "code",
   "execution_count": 9,
   "metadata": {},
   "outputs": [
    {
     "data": {
      "text/html": [
       "<br>"
      ],
      "text/plain": [
       "<IPython.core.display.HTML object>"
      ]
     },
     "metadata": {},
     "output_type": "display_data"
    },
    {
     "data": {
      "text/html": [
       "<div align=\"right\" style=\"background-color:#7fb3d5;width:300px\">TEST</div>"
      ],
      "text/plain": [
       "<IPython.core.display.HTML object>"
      ]
     },
     "metadata": {},
     "output_type": "display_data"
    },
    {
     "data": {
      "text/html": [
       "<br>"
      ],
      "text/plain": [
       "<IPython.core.display.HTML object>"
      ]
     },
     "metadata": {},
     "output_type": "display_data"
    }
   ],
   "source": [
    "#\n",
    "# Build a div tag\n",
    "# Color resource:  https://htmlcolorcodes.com/\n",
    "display(HTML('<br>'))\n",
    "display(HTML('<div align=\"right\" style=\"background-color:#7fb3d5;width:300px\">TEST</div>'))\n",
    "display(HTML('<br>'))"
   ]
  },
  {
   "cell_type": "code",
   "execution_count": 7,
   "metadata": {},
   "outputs": [
    {
     "data": {
      "text/html": [
       "<div align=\"right\" style=\"background-color:#7fb3d5;width:81px;>margin-top:2px; margin-bottom:2px;\"><b>81</b></div><div align=\"right\" style=\"background-color:#7fb3d5;width:164px;>margin-top:2px; margin-bottom:2px;\"><b>164</b></div><div align=\"right\" style=\"background-color:#7fb3d5;width:64px;>margin-top:2px; margin-bottom:2px;\"><b>64</b></div><div align=\"right\" style=\"background-color:#7fb3d5;width:300px;>margin-top:2px; margin-bottom:2px;\"><b>300</b></div><div align=\"right\" style=\"background-color:#7fb3d5;width:341px;>margin-top:2px; margin-bottom:2px;\"><b>341</b></div><div align=\"right\" style=\"background-color:#7fb3d5;width:115px;>margin-top:2px; margin-bottom:2px;\"><b>115</b></div><div align=\"right\" style=\"background-color:#7fb3d5;width:99px;>margin-top:2px; margin-bottom:2px;\"><b>99</b></div><div align=\"right\" style=\"background-color:#7fb3d5;width:198px;>margin-top:2px; margin-bottom:2px;\"><b>198</b></div><div align=\"right\" style=\"background-color:#7fb3d5;width:316px;>margin-top:2px; margin-bottom:2px;\"><b>316</b></div><div align=\"right\" style=\"background-color:#7fb3d5;width:165px;>margin-top:2px; margin-bottom:2px;\"><b>165</b></div>"
      ],
      "text/plain": [
       "<IPython.core.display.HTML object>"
      ]
     },
     "metadata": {},
     "output_type": "display_data"
    }
   ],
   "source": [
    "#\n",
    "# Build it dynamically blending code, values and HTML\n",
    "strDynHTML = ''\n",
    "for i in range(10):\n",
    "    x =  random.randint(25,400)\n",
    "    # open the div tag, set div width with random number, add margin, close the div\n",
    "    strDynHTML = strDynHTML + '<div align=\"right\" style=\"background-color:#7fb3d5;'\n",
    "    strDynHTML = strDynHTML + 'width:' + str(x) + 'px;>' \n",
    "    strDynHTML = strDynHTML + 'margin-top:2px; margin-bottom:2px;\">'\n",
    "    strDynHTML = strDynHTML + '<b>' + str(x) + '</b>'\n",
    "    strDynHTML = strDynHTML + '</div>'\n",
    "\n",
    "display(HTML(strDynHTML))"
   ]
  },
  {
   "cell_type": "code",
   "execution_count": null,
   "metadata": {},
   "outputs": [],
   "source": []
  }
 ],
 "metadata": {
  "kernelspec": {
   "display_name": "Python 2",
   "language": "python",
   "name": "python2"
  },
  "language_info": {
   "codemirror_mode": {
    "name": "ipython",
    "version": 2
   },
   "file_extension": ".py",
   "mimetype": "text/x-python",
   "name": "python",
   "nbconvert_exporter": "python",
   "pygments_lexer": "ipython2",
   "version": "2.7.15"
  }
 },
 "nbformat": 4,
 "nbformat_minor": 2
}
